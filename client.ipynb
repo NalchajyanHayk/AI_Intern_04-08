{
 "cells": [
  {
   "cell_type": "code",
   "execution_count": null,
   "id": "4f28fa61",
   "metadata": {},
   "outputs": [],
   "source": [
    "import asyncio\n",
    "import websockets\n",
    "\n",
    "async def handle_message(message):\n",
    "    print(f\"Received message from server: {message}\")\n",
    "\n",
    "async def chat_client():\n",
    "    try:\n",
    "        async with websockets.connect(\"ws://localhost:8765\") as websocket:\n",
    "            print(\"Connected to server.\")\n",
    "            while True:\n",
    "                message = await websocket.recv()\n",
    "                await handle_message(message)\n",
    "    except websockets.ConnectionClosedError:\n",
    "        print(\"Connection to server closed.\")\n",
    "\n",
    "if __name__ == \"__main__\":\n",
    "    asyncio.get_event_loop().run_until_complete(chat_client())\n"
   ]
  }
 ],
 "metadata": {
  "kernelspec": {
   "display_name": "Python 3 (ipykernel)",
   "language": "python",
   "name": "python3"
  },
  "language_info": {
   "codemirror_mode": {
    "name": "ipython",
    "version": 3
   },
   "file_extension": ".py",
   "mimetype": "text/x-python",
   "name": "python",
   "nbconvert_exporter": "python",
   "pygments_lexer": "ipython3",
   "version": "3.9.13"
  }
 },
 "nbformat": 4,
 "nbformat_minor": 5
}

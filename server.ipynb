{
 "cells": [
  {
   "cell_type": "code",
   "execution_count": null,
   "id": "5eb69e38",
   "metadata": {},
   "outputs": [],
   "source": [
    "import asyncio\n",
    "import websockets\n",
    "\n",
    "connected_clients = set()\n",
    "\n",
    "async def handle_message(message, client):\n",
    "    for client_socket in connected_clients:\n",
    "        if client_socket != client:\n",
    "            await client_socket.send(message)\n",
    "\n",
    "async def handle_client(websocket, path):\n",
    "    connected_clients.add(websocket)\n",
    "    \n",
    "    try:\n",
    "        async for message in websocket:\n",
    "            await handle_message(message, websocket)\n",
    "    except websockets.ConnectionClosedError:\n",
    "        pass\n",
    "    finally:\n",
    "        connected_clients.remove(websocket)\n",
    "\n",
    "async def main():\n",
    "    server = await websockets.serve(handle_client, \"localhost\", 8765)\n",
    "    print(\"Chat server started. Listening on ws://localhost:8765\")\n",
    "    await server.wait_closed()\n",
    "\n",
    "if __name__ == \"__main__\":\n",
    "    asyncio.get_event_loop().run_until_complete(main())\n"
   ]
  }
 ],
 "metadata": {
  "kernelspec": {
   "display_name": "Python 3 (ipykernel)",
   "language": "python",
   "name": "python3"
  },
  "language_info": {
   "codemirror_mode": {
    "name": "ipython",
    "version": 3
   },
   "file_extension": ".py",
   "mimetype": "text/x-python",
   "name": "python",
   "nbconvert_exporter": "python",
   "pygments_lexer": "ipython3",
   "version": "3.9.13"
  }
 },
 "nbformat": 4,
 "nbformat_minor": 5
}
